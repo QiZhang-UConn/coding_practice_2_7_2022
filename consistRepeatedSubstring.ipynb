{
 "cells": [
  {
   "cell_type": "code",
   "execution_count": 1,
   "id": "arbitrary-horizontal",
   "metadata": {},
   "outputs": [],
   "source": [
    "def repeated(s):\n",
    "    for i in range(1,len(s)//2+1,1):\n",
    "        if(s==s[0:i]*(int)(len(s)/i)):\n",
    "            return True\n",
    "    return False"
   ]
  },
  {
   "cell_type": "code",
   "execution_count": 2,
   "id": "liked-focus",
   "metadata": {},
   "outputs": [],
   "source": [
    "#Given Test Cases\n",
    "assert repeated(\"a\")==False,\"test case 1 failed\"\n",
    "assert repeated(\"ababab\")==True,\"test case 2 failed\"\n",
    "assert repeated(\"aba\")==False,\"test case 3 failed\"\n",
    "assert repeated(\"abcabcabcabc\")==True,\"test case 4 failed\"\n",
    "assert repeated(\"aaxxtaaxztaaxxt\")==False,\"test case 5 failed\""
   ]
  },
  {
   "cell_type": "code",
   "execution_count": 3,
   "id": "eleven-citation",
   "metadata": {},
   "outputs": [],
   "source": [
    "#Custom Test Cases\n",
    "assert repeated(\"abcabc\")==True,\"test case 1 failed\"\n",
    "assert repeated(\"abcdabcd\")==True, \"test case 2 failed\"\n",
    "assert repeated(\"\")==False, \"test case 2 failed\"\n",
    "assert repeated(\" \")==False, \"test case 3 failed\"\n",
    "assert repeated(\"aa\")==True, \"test case 4 failed\""
   ]
  },
  {
   "cell_type": "code",
   "execution_count": null,
   "id": "normal-keyboard",
   "metadata": {},
   "outputs": [],
   "source": []
  }
 ],
 "metadata": {
  "kernelspec": {
   "display_name": "Python 3",
   "language": "python",
   "name": "python3"
  },
  "language_info": {
   "codemirror_mode": {
    "name": "ipython",
    "version": 3
   },
   "file_extension": ".py",
   "mimetype": "text/x-python",
   "name": "python",
   "nbconvert_exporter": "python",
   "pygments_lexer": "ipython3",
   "version": "3.9.7"
  }
 },
 "nbformat": 4,
 "nbformat_minor": 5
}
